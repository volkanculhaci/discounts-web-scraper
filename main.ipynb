{
 "cells": [
  {
   "cell_type": "code",
   "execution_count": 1,
   "metadata": {},
   "outputs": [
    {
     "ename": "ServerSelectionTimeoutError",
     "evalue": "mongo_host:27017: [Errno 11001] getaddrinfo failed, Timeout: 30s, Topology Description: <TopologyDescription id: 645619447376309119fc0dc3, topology_type: Unknown, servers: [<ServerDescription ('mongo_host', 27017) server_type: Unknown, rtt: None, error=AutoReconnect('mongo_host:27017: [Errno 11001] getaddrinfo failed')>]>",
     "output_type": "error",
     "traceback": [
      "\u001b[1;31m---------------------------------------------------------------------------\u001b[0m",
      "\u001b[1;31mServerSelectionTimeoutError\u001b[0m               Traceback (most recent call last)",
      "Cell \u001b[1;32mIn[1], line 68\u001b[0m\n\u001b[0;32m     65\u001b[0m \u001b[39melse\u001b[39;00m:\n\u001b[0;32m     66\u001b[0m     topic_link \u001b[39m=\u001b[39m firsat[i] \u001b[39m+\u001b[39m title_elem\u001b[39m.\u001b[39mget(\u001b[39m\"\u001b[39m\u001b[39mhref\u001b[39m\u001b[39m\"\u001b[39m)\n\u001b[1;32m---> 68\u001b[0m existing_doc \u001b[39m=\u001b[39m collection\u001b[39m.\u001b[39;49mfind_one({\u001b[39m\"\u001b[39;49m\u001b[39mtopic\u001b[39;49m\u001b[39m\"\u001b[39;49m: title})\n\u001b[0;32m     70\u001b[0m \u001b[39mif\u001b[39;00m existing_doc \u001b[39mis\u001b[39;00m \u001b[39mNone\u001b[39;00m:\n\u001b[0;32m     71\u001b[0m     \u001b[39m# title_real = title.replace(\"\\\\\", \"\").strip()\u001b[39;00m\n\u001b[0;32m     72\u001b[0m     doc \u001b[39m=\u001b[39m {\n\u001b[0;32m     73\u001b[0m         \u001b[39m\"\u001b[39m\u001b[39mcreation\u001b[39m\u001b[39m\"\u001b[39m: current_time,\n\u001b[0;32m     74\u001b[0m         \u001b[39m\"\u001b[39m\u001b[39mtopic\u001b[39m\u001b[39m\"\u001b[39m: title,\n\u001b[0;32m     75\u001b[0m         \u001b[39m\"\u001b[39m\u001b[39mlink\u001b[39m\u001b[39m\"\u001b[39m: topic_link\n\u001b[0;32m     76\u001b[0m     }\n",
      "File \u001b[1;32mc:\\Users\\Volkan\\AppData\\Local\\Programs\\Python\\Python311\\Lib\\site-packages\\pymongo\\collection.py:1459\u001b[0m, in \u001b[0;36mCollection.find_one\u001b[1;34m(self, filter, *args, **kwargs)\u001b[0m\n\u001b[0;32m   1457\u001b[0m     \u001b[39mfilter\u001b[39m \u001b[39m=\u001b[39m {\u001b[39m\"\u001b[39m\u001b[39m_id\u001b[39m\u001b[39m\"\u001b[39m: \u001b[39mfilter\u001b[39m}\n\u001b[0;32m   1458\u001b[0m cursor \u001b[39m=\u001b[39m \u001b[39mself\u001b[39m\u001b[39m.\u001b[39mfind(\u001b[39mfilter\u001b[39m, \u001b[39m*\u001b[39margs, \u001b[39m*\u001b[39m\u001b[39m*\u001b[39mkwargs)\n\u001b[1;32m-> 1459\u001b[0m \u001b[39mfor\u001b[39;00m result \u001b[39min\u001b[39;00m cursor\u001b[39m.\u001b[39mlimit(\u001b[39m-\u001b[39m\u001b[39m1\u001b[39m):\n\u001b[0;32m   1460\u001b[0m     \u001b[39mreturn\u001b[39;00m result\n\u001b[0;32m   1461\u001b[0m \u001b[39mreturn\u001b[39;00m \u001b[39mNone\u001b[39;00m\n",
      "File \u001b[1;32mc:\\Users\\Volkan\\AppData\\Local\\Programs\\Python\\Python311\\Lib\\site-packages\\pymongo\\cursor.py:1248\u001b[0m, in \u001b[0;36mCursor.next\u001b[1;34m(self)\u001b[0m\n\u001b[0;32m   1246\u001b[0m \u001b[39mif\u001b[39;00m \u001b[39mself\u001b[39m\u001b[39m.\u001b[39m__empty:\n\u001b[0;32m   1247\u001b[0m     \u001b[39mraise\u001b[39;00m \u001b[39mStopIteration\u001b[39;00m\n\u001b[1;32m-> 1248\u001b[0m \u001b[39mif\u001b[39;00m \u001b[39mlen\u001b[39m(\u001b[39mself\u001b[39m\u001b[39m.\u001b[39m__data) \u001b[39mor\u001b[39;00m \u001b[39mself\u001b[39;49m\u001b[39m.\u001b[39;49m_refresh():\n\u001b[0;32m   1249\u001b[0m     \u001b[39mreturn\u001b[39;00m \u001b[39mself\u001b[39m\u001b[39m.\u001b[39m__data\u001b[39m.\u001b[39mpopleft()\n\u001b[0;32m   1250\u001b[0m \u001b[39melse\u001b[39;00m:\n",
      "File \u001b[1;32mc:\\Users\\Volkan\\AppData\\Local\\Programs\\Python\\Python311\\Lib\\site-packages\\pymongo\\cursor.py:1139\u001b[0m, in \u001b[0;36mCursor._refresh\u001b[1;34m(self)\u001b[0m\n\u001b[0;32m   1136\u001b[0m     \u001b[39mreturn\u001b[39;00m \u001b[39mlen\u001b[39m(\u001b[39mself\u001b[39m\u001b[39m.\u001b[39m__data)\n\u001b[0;32m   1138\u001b[0m \u001b[39mif\u001b[39;00m \u001b[39mnot\u001b[39;00m \u001b[39mself\u001b[39m\u001b[39m.\u001b[39m__session:\n\u001b[1;32m-> 1139\u001b[0m     \u001b[39mself\u001b[39m\u001b[39m.\u001b[39m__session \u001b[39m=\u001b[39m \u001b[39mself\u001b[39;49m\u001b[39m.\u001b[39;49m__collection\u001b[39m.\u001b[39;49mdatabase\u001b[39m.\u001b[39;49mclient\u001b[39m.\u001b[39;49m_ensure_session()\n\u001b[0;32m   1141\u001b[0m \u001b[39mif\u001b[39;00m \u001b[39mself\u001b[39m\u001b[39m.\u001b[39m__id \u001b[39mis\u001b[39;00m \u001b[39mNone\u001b[39;00m:  \u001b[39m# Query\u001b[39;00m\n\u001b[0;32m   1142\u001b[0m     \u001b[39mif\u001b[39;00m (\u001b[39mself\u001b[39m\u001b[39m.\u001b[39m__min \u001b[39mor\u001b[39;00m \u001b[39mself\u001b[39m\u001b[39m.\u001b[39m__max) \u001b[39mand\u001b[39;00m \u001b[39mnot\u001b[39;00m \u001b[39mself\u001b[39m\u001b[39m.\u001b[39m__hint:\n",
      "File \u001b[1;32mc:\\Users\\Volkan\\AppData\\Local\\Programs\\Python\\Python311\\Lib\\site-packages\\pymongo\\mongo_client.py:1740\u001b[0m, in \u001b[0;36mMongoClient._ensure_session\u001b[1;34m(self, session)\u001b[0m\n\u001b[0;32m   1735\u001b[0m     \u001b[39mreturn\u001b[39;00m session\n\u001b[0;32m   1737\u001b[0m \u001b[39mtry\u001b[39;00m:\n\u001b[0;32m   1738\u001b[0m     \u001b[39m# Don't make implicit sessions causally consistent. Applications\u001b[39;00m\n\u001b[0;32m   1739\u001b[0m     \u001b[39m# should always opt-in.\u001b[39;00m\n\u001b[1;32m-> 1740\u001b[0m     \u001b[39mreturn\u001b[39;00m \u001b[39mself\u001b[39;49m\u001b[39m.\u001b[39;49m__start_session(\u001b[39mTrue\u001b[39;49;00m, causal_consistency\u001b[39m=\u001b[39;49m\u001b[39mFalse\u001b[39;49;00m)\n\u001b[0;32m   1741\u001b[0m \u001b[39mexcept\u001b[39;00m (ConfigurationError, InvalidOperation):\n\u001b[0;32m   1742\u001b[0m     \u001b[39m# Sessions not supported.\u001b[39;00m\n\u001b[0;32m   1743\u001b[0m     \u001b[39mreturn\u001b[39;00m \u001b[39mNone\u001b[39;00m\n",
      "File \u001b[1;32mc:\\Users\\Volkan\\AppData\\Local\\Programs\\Python\\Python311\\Lib\\site-packages\\pymongo\\mongo_client.py:1685\u001b[0m, in \u001b[0;36mMongoClient.__start_session\u001b[1;34m(self, implicit, **kwargs)\u001b[0m\n\u001b[0;32m   1682\u001b[0m \u001b[39mdef\u001b[39;00m \u001b[39m__start_session\u001b[39m(\u001b[39mself\u001b[39m, implicit, \u001b[39m*\u001b[39m\u001b[39m*\u001b[39mkwargs):\n\u001b[0;32m   1683\u001b[0m     \u001b[39m# Raises ConfigurationError if sessions are not supported.\u001b[39;00m\n\u001b[0;32m   1684\u001b[0m     \u001b[39mif\u001b[39;00m implicit:\n\u001b[1;32m-> 1685\u001b[0m         \u001b[39mself\u001b[39;49m\u001b[39m.\u001b[39;49m_topology\u001b[39m.\u001b[39;49m_check_implicit_session_support()\n\u001b[0;32m   1686\u001b[0m         server_session \u001b[39m=\u001b[39m _EmptyServerSession()\n\u001b[0;32m   1687\u001b[0m     \u001b[39melse\u001b[39;00m:\n",
      "File \u001b[1;32mc:\\Users\\Volkan\\AppData\\Local\\Programs\\Python\\Python311\\Lib\\site-packages\\pymongo\\topology.py:538\u001b[0m, in \u001b[0;36mTopology._check_implicit_session_support\u001b[1;34m(self)\u001b[0m\n\u001b[0;32m    536\u001b[0m \u001b[39mdef\u001b[39;00m \u001b[39m_check_implicit_session_support\u001b[39m(\u001b[39mself\u001b[39m):\n\u001b[0;32m    537\u001b[0m     \u001b[39mwith\u001b[39;00m \u001b[39mself\u001b[39m\u001b[39m.\u001b[39m_lock:\n\u001b[1;32m--> 538\u001b[0m         \u001b[39mself\u001b[39;49m\u001b[39m.\u001b[39;49m_check_session_support()\n",
      "File \u001b[1;32mc:\\Users\\Volkan\\AppData\\Local\\Programs\\Python\\Python311\\Lib\\site-packages\\pymongo\\topology.py:554\u001b[0m, in \u001b[0;36mTopology._check_session_support\u001b[1;34m(self)\u001b[0m\n\u001b[0;32m    550\u001b[0m         \u001b[39mself\u001b[39m\u001b[39m.\u001b[39m_select_servers_loop(\n\u001b[0;32m    551\u001b[0m             any_server_selector, \u001b[39mself\u001b[39m\u001b[39m.\u001b[39mget_server_selection_timeout(), \u001b[39mNone\u001b[39;00m\n\u001b[0;32m    552\u001b[0m         )\n\u001b[0;32m    553\u001b[0m \u001b[39melif\u001b[39;00m \u001b[39mnot\u001b[39;00m \u001b[39mself\u001b[39m\u001b[39m.\u001b[39m_description\u001b[39m.\u001b[39mreadable_servers:\n\u001b[1;32m--> 554\u001b[0m     \u001b[39mself\u001b[39;49m\u001b[39m.\u001b[39;49m_select_servers_loop(\n\u001b[0;32m    555\u001b[0m         readable_server_selector, \u001b[39mself\u001b[39;49m\u001b[39m.\u001b[39;49mget_server_selection_timeout(), \u001b[39mNone\u001b[39;49;00m\n\u001b[0;32m    556\u001b[0m     )\n\u001b[0;32m    558\u001b[0m session_timeout \u001b[39m=\u001b[39m \u001b[39mself\u001b[39m\u001b[39m.\u001b[39m_description\u001b[39m.\u001b[39mlogical_session_timeout_minutes\n\u001b[0;32m    559\u001b[0m \u001b[39mif\u001b[39;00m session_timeout \u001b[39mis\u001b[39;00m \u001b[39mNone\u001b[39;00m:\n",
      "File \u001b[1;32mc:\\Users\\Volkan\\AppData\\Local\\Programs\\Python\\Python311\\Lib\\site-packages\\pymongo\\topology.py:238\u001b[0m, in \u001b[0;36mTopology._select_servers_loop\u001b[1;34m(self, selector, timeout, address)\u001b[0m\n\u001b[0;32m    235\u001b[0m \u001b[39mwhile\u001b[39;00m \u001b[39mnot\u001b[39;00m server_descriptions:\n\u001b[0;32m    236\u001b[0m     \u001b[39m# No suitable servers.\u001b[39;00m\n\u001b[0;32m    237\u001b[0m     \u001b[39mif\u001b[39;00m timeout \u001b[39m==\u001b[39m \u001b[39m0\u001b[39m \u001b[39mor\u001b[39;00m now \u001b[39m>\u001b[39m end_time:\n\u001b[1;32m--> 238\u001b[0m         \u001b[39mraise\u001b[39;00m ServerSelectionTimeoutError(\n\u001b[0;32m    239\u001b[0m             \u001b[39m\"\u001b[39m\u001b[39m%s\u001b[39;00m\u001b[39m, Timeout: \u001b[39m\u001b[39m%s\u001b[39;00m\u001b[39ms, Topology Description: \u001b[39m\u001b[39m%r\u001b[39;00m\u001b[39m\"\u001b[39m\n\u001b[0;32m    240\u001b[0m             \u001b[39m%\u001b[39m (\u001b[39mself\u001b[39m\u001b[39m.\u001b[39m_error_message(selector), timeout, \u001b[39mself\u001b[39m\u001b[39m.\u001b[39mdescription)\n\u001b[0;32m    241\u001b[0m         )\n\u001b[0;32m    243\u001b[0m     \u001b[39mself\u001b[39m\u001b[39m.\u001b[39m_ensure_opened()\n\u001b[0;32m    244\u001b[0m     \u001b[39mself\u001b[39m\u001b[39m.\u001b[39m_request_check_all()\n",
      "\u001b[1;31mServerSelectionTimeoutError\u001b[0m: mongo_host:27017: [Errno 11001] getaddrinfo failed, Timeout: 30s, Topology Description: <TopologyDescription id: 645619447376309119fc0dc3, topology_type: Unknown, servers: [<ServerDescription ('mongo_host', 27017) server_type: Unknown, rtt: None, error=AutoReconnect('mongo_host:27017: [Errno 11001] getaddrinfo failed')>]>"
     ]
    }
   ],
   "source": [
    "import json\n",
    "import requests\n",
    "import time\n",
    "import re\n",
    "from datetime import datetime\n",
    "from bs4 import BeautifulSoup\n",
    "from pymongo import MongoClient\n",
    "import telegram\n",
    "\n",
    "\n",
    "# Function to send notification to telegram chat\n",
    "async def send_notification(title, link):\n",
    "    await bot.send_message(chat_id, f'{title}\\n{link}\\n')\n",
    "    time.sleep(3)\n",
    "\n",
    "\n",
    "# Load credentials from JSON file\n",
    "with open('credentials.json') as f:\n",
    "    credentials = json.load(f)\n",
    "\n",
    "# Extract MongoDB and Telegram credentials from the credentials object\n",
    "mongo_creds = credentials['mongo']\n",
    "telegram_creds = credentials['telegram']\n",
    "\n",
    "# Connect to MongoDB\n",
    "client = MongoClient(mongo_creds['host'])\n",
    "db = client[mongo_creds['database']]\n",
    "collection = db[mongo_creds['collection']]\n",
    "\n",
    "# Connect to Telegram bot\n",
    "bot = telegram.Bot(token=telegram_creds['token'])\n",
    "chat_id = telegram_creds['chat_id']\n",
    "\n",
    "# URLs to scrape and corresponding CSS classes for titles\n",
    "websites = ['https://forum.donanimarsivi.com/forumlar/Sicakfirsatlar/',\n",
    "            'https://forum.donanimhaber.com/sicak-firsatlar--f193?sayfa=1',\n",
    "            'https://www.r10.net/sicak-firsatlar']\n",
    "classes = [\"structItem-title\", \"kl-konu\", \"title\"]\n",
    "\n",
    "# Base URL for each website (used to construct the full topic URL)\n",
    "firsat = ['https://forum.donanimarsivi.com', 'https://forum.donanimhaber.com', '']\n",
    "\n",
    "# Infinite loop to continuously scrape the websites\n",
    "while True:\n",
    "    for i, url in enumerate(websites):\n",
    "\n",
    "        current_time = datetime.now().strftime(\"%Y-%m-%d %H:%M:%S\")\n",
    "        response = requests.get(url)\n",
    "        soup = BeautifulSoup(response.content, 'html.parser')\n",
    "        topics = soup.find_all('div', {'class': classes[i]})\n",
    "\n",
    "        for topic in topics[1:]:\n",
    "            title_elem = topic.find('a', {'class': ''})\n",
    "            if not title_elem:\n",
    "                continue\n",
    "            title = title_elem.text.strip()\n",
    "            if url == 'https://forum.donanimhaber.com/sicak-firsatlar--f193?sayfa=1':\n",
    "                try:\n",
    "                    topic_link = firsat[i] + title_elem.get(\"href\")\n",
    "                    if any(x in title for x in [\"[ANA KONU]\", \"ANA KONU\", \"[ANAKONU]\", \"Sabit Konu: \",\n",
    "                                                \"Sponsorlu İçerik:\", \"ad.donanim\"]) or \"ad.donanim\" in topic_link:\n",
    "                        continue\n",
    "                except Exception:\n",
    "                    continue\n",
    "            else:\n",
    "                topic_link = firsat[i] + title_elem.get(\"href\")\n",
    "\n",
    "            existing_doc = collection.find_one({\"topic\": title})\n",
    "\n",
    "            if existing_doc is None:\n",
    "                # title_real = title.replace(\"\\\\\", \"\").strip()\n",
    "                doc = {\n",
    "                    \"creation\": current_time,\n",
    "                    \"topic\": title,\n",
    "                    \"link\": topic_link\n",
    "                }\n",
    "                collection.insert_one(doc)\n",
    "                await send_notification(title, topic_link)\n",
    "\n",
    "    time.sleep(180)\n"
   ]
  }
 ],
 "metadata": {
  "kernelspec": {
   "display_name": "Python 3",
   "language": "python",
   "name": "python3"
  },
  "language_info": {
   "codemirror_mode": {
    "name": "ipython",
    "version": 3
   },
   "file_extension": ".py",
   "mimetype": "text/x-python",
   "name": "python",
   "nbconvert_exporter": "python",
   "pygments_lexer": "ipython3",
   "version": "3.11.3"
  },
  "orig_nbformat": 4,
  "vscode": {
   "interpreter": {
    "hash": "0ba2ab0a8fca34622c36827fffb5197ee0127a57c26a17aed9f80f0f92bb3477"
   }
  }
 },
 "nbformat": 4,
 "nbformat_minor": 2
}
